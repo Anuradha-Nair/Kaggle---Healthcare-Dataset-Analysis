{
 "cells": [
  {
   "cell_type": "code",
   "execution_count": 53,
   "id": "67ee8547-cbf4-4fc4-8ee0-a624cb0de943",
   "metadata": {},
   "outputs": [
    {
     "data": {
      "text/html": [
       "\n",
       "<h1 style = \"background-color: #556B2F;\n",
       "color:orange; font-size: 30px;\n",
       "border-radius: 20px;\n",
       "padding: 16px;\n",
       "text-align: center;\">\n",
       "\n",
       "<b style = \"color: #9ACD32;\n",
       "\">Kaggle - Healthcare Dataset Analysis</b></h1>\n"
      ],
      "text/plain": [
       "<IPython.core.display.HTML object>"
      ]
     },
     "metadata": {},
     "output_type": "display_data"
    }
   ],
   "source": [
    "from IPython.display import HTML, display\n",
    "\n",
    "html_code = '''\n",
    "<h1 style = \"background-color: #556B2F;\n",
    "color:orange; font-size: 30px;\n",
    "border-radius: 20px;\n",
    "padding: 16px;\n",
    "text-align: center;\">\n",
    "\n",
    "<b style = \"color: #9ACD32;\n",
    "\">Kaggle - Healthcare Dataset Analysis</b></h1>\n",
    "'''\n",
    "\n",
    "display(HTML(html_code))"
   ]
  },
  {
   "cell_type": "code",
   "execution_count": 69,
   "id": "da470de7-c86c-4578-8681-ce6e726fdc88",
   "metadata": {},
   "outputs": [
    {
     "data": {
      "text/html": [
       "\n",
       "<h1 style = \"background-color: #556B2F; font-size: 14px;\n",
       "border-radius: 20px;\n",
       "padding: 12px;\n",
       "border: 4px solid darkgreen\n",
       "text-align: left;\">\n",
       "\n",
       "<span style = \"color:#9ACD32;\n",
       "\">- The The steps we'll follow are:<br><br>\n",
       "We will:\n",
       "<br><br></span> \n",
       "<span style = \"color:white;\n",
       "\">🧭 Step 1: Load and Inspect the Data\n",
       "</span>\n",
       "<span style = \"color:#9ACD32;\n",
       "\"><ul>Check the structure</ul>\n",
       "  <ul>Review column names</ul>\n",
       "  <ul>Look at data types</ul>\n",
       "  <ul>Identify nulls or anomalies</ul></span>\n",
       "<br><br>\n",
       "\n",
       "<span style = \"color:white;\n",
       "\">🧪 Step 2: Data Cleaning\n",
       "</span>\n",
       "<br><br>\n",
       "<span style = \"color:#9ACD32;\n",
       "\">- Tasks:\n",
       "</span>\n",
       "<span style = \"color:#9ACD32;\n",
       "\"><ul>Convert data types where necessary</ul>\n",
       "  <ul>Handle missing values appropriately</ul>\n",
       "  <ul>Clean or encode categorical variables if needed</ul></span>\n",
       "<br><br>\n",
       "\n",
       "<span style = \"color:white;\n",
       "\">📊 Step 3: Exploratory Data Analysis (EDA)\n",
       "</span>\n",
       "<br><br>\n",
       "<span style = \"color:#9ACD32;\n",
       "\">- We'll visualize and analyze:\n",
       "</span>\n",
       "<span style = \"color:#9ACD32;\n",
       "\"><ul>Distributions of key variables</ul>\n",
       "  <ul>Correlations</ul>\n",
       "  <ul>Outliers</ul>\n",
       "  <ul>Categorical breakdowns</ul></span>\n",
       "<br><br>\n",
       "\n",
       "<span style = \"color:white;\n",
       "\">📈 Step 4: Business Insights & Decisions\n",
       "</span>\n",
       "<br><br>\n",
       "<span style = \"color:#9ACD32;\n",
       "\">- Based on EDA, we'll highlight:\n",
       "</span>\n",
       "<span style = \"color:#9ACD32;\n",
       "\"><ul>Key patient or treatment patterns</ul>\n",
       "  <ul>Important KPIs</ul>\n",
       "  <ul>Potential areas for operational or policy intervention</ul></span>\n",
       "\n",
       "\n",
       "<br>\n",
       "</h1>\n"
      ],
      "text/plain": [
       "<IPython.core.display.HTML object>"
      ]
     },
     "metadata": {},
     "output_type": "display_data"
    }
   ],
   "source": [
    "from IPython.display import HTML, display\n",
    "\n",
    "html_code = '''\n",
    "<h1 style = \"background-color: #556B2F; font-size: 14px;\n",
    "border-radius: 20px;\n",
    "padding: 12px;\n",
    "border: 4px solid darkgreen\n",
    "text-align: left;\">\n",
    "\n",
    "<span style = \"color:#9ACD32;\n",
    "\">- The The steps we'll follow are:<br><br>\n",
    "We will:\n",
    "<br><br></span> \n",
    "<span style = \"color:white;\n",
    "\">🧭 Step 1: Load and Inspect the Data\n",
    "</span>\n",
    "<span style = \"color:#9ACD32;\n",
    "\"><ul>Check the structure</ul>\n",
    "  <ul>Review column names</ul>\n",
    "  <ul>Look at data types</ul>\n",
    "  <ul>Identify nulls or anomalies</ul></span>\n",
    "<br><br>\n",
    "\n",
    "<span style = \"color:white;\n",
    "\">🧪 Step 2: Data Cleaning\n",
    "</span>\n",
    "<br><br>\n",
    "<span style = \"color:#9ACD32;\n",
    "\">- Tasks:\n",
    "</span>\n",
    "<span style = \"color:#9ACD32;\n",
    "\"><ul>Convert data types where necessary</ul>\n",
    "  <ul>Handle missing values appropriately</ul>\n",
    "  <ul>Clean or encode categorical variables if needed</ul></span>\n",
    "<br><br>\n",
    "\n",
    "<span style = \"color:white;\n",
    "\">📊 Step 3: Exploratory Data Analysis (EDA)\n",
    "</span>\n",
    "<br><br>\n",
    "<span style = \"color:#9ACD32;\n",
    "\">- We'll visualize and analyze:\n",
    "</span>\n",
    "<span style = \"color:#9ACD32;\n",
    "\"><ul>Distributions of key variables</ul>\n",
    "  <ul>Correlations</ul>\n",
    "  <ul>Outliers</ul>\n",
    "  <ul>Categorical breakdowns</ul></span>\n",
    "<br><br>\n",
    "\n",
    "<span style = \"color:white;\n",
    "\">📈 Step 4: Business Insights & Decisions\n",
    "</span>\n",
    "<br><br>\n",
    "<span style = \"color:#9ACD32;\n",
    "\">- Based on EDA, we'll highlight:\n",
    "</span>\n",
    "<span style = \"color:#9ACD32;\n",
    "\"><ul>Key patient or treatment patterns</ul>\n",
    "  <ul>Important KPIs</ul>\n",
    "  <ul>Potential areas for operational or policy intervention</ul></span>\n",
    "\n",
    "\n",
    "<br>\n",
    "</h1>\n",
    "'''\n",
    "\n",
    "display(HTML(html_code))"
   ]
  },
  {
   "cell_type": "code",
   "execution_count": 54,
   "id": "590ad138-7cfc-4bee-998d-7ee8d45793e4",
   "metadata": {},
   "outputs": [
    {
     "data": {
      "text/html": [
       "\n",
       "<h1 style = \"background-color: #556B2F;\n",
       "color:white; font-size: 30px;\n",
       "border-radius: 20px;\n",
       "padding: 16px;\n",
       "text-align: center;\">\n",
       "\n",
       " \n",
       "<span style = \"color: #9ACD32;\">Importing the Required Libraries</span>\n",
       "</h1>\n"
      ],
      "text/plain": [
       "<IPython.core.display.HTML object>"
      ]
     },
     "metadata": {},
     "output_type": "display_data"
    }
   ],
   "source": [
    "from IPython.display import HTML, display\n",
    "\n",
    "html_code = '''\n",
    "<h1 style = \"background-color: #556B2F;\n",
    "color:white; font-size: 30px;\n",
    "border-radius: 20px;\n",
    "padding: 16px;\n",
    "text-align: center;\">\n",
    "\n",
    " \n",
    "<span style = \"color: #9ACD32;\">Importing the Required Libraries</span>\n",
    "</h1>\n",
    "'''\n",
    "\n",
    "display(HTML(html_code))"
   ]
  },
  {
   "cell_type": "code",
   "execution_count": 30,
   "id": "8b590424-b6f7-4f61-a280-c3dc0608e0e9",
   "metadata": {},
   "outputs": [],
   "source": [
    "import pandas as pd\n",
    "import matplotlib.pyplot as plt\n",
    "import seaborn as sns\n",
    "import warnings\n",
    "warnings.filterwarnings('ignore')"
   ]
  },
  {
   "cell_type": "code",
   "execution_count": 70,
   "id": "639678cc-5090-4bd4-9010-17c5b27d9c51",
   "metadata": {},
   "outputs": [
    {
     "data": {
      "text/html": [
       "\n",
       "<h1 style = \"background-color: #556B2F;\n",
       "color:white; font-size: 30px;\n",
       "border-radius: 20px;\n",
       "padding: 16px;\n",
       "text-align: center;\">\n",
       "\n",
       " \n",
       "<span style = \"color: #9ACD32;\">Loading the Dataset</span>\n",
       "</h1>\n"
      ],
      "text/plain": [
       "<IPython.core.display.HTML object>"
      ]
     },
     "metadata": {},
     "output_type": "display_data"
    }
   ],
   "source": [
    "from IPython.display import HTML, display\n",
    "\n",
    "html_code = '''\n",
    "<h1 style = \"background-color: #556B2F;\n",
    "color:white; font-size: 30px;\n",
    "border-radius: 20px;\n",
    "padding: 16px;\n",
    "text-align: center;\">\n",
    "\n",
    " \n",
    "<span style = \"color: #9ACD32;\">Loading the Dataset</span>\n",
    "</h1>\n",
    "'''\n",
    "\n",
    "display(HTML(html_code))"
   ]
  },
  {
   "cell_type": "code",
   "execution_count": 31,
   "id": "4db2ef48-3d9b-4668-baa7-5231f013876f",
   "metadata": {},
   "outputs": [],
   "source": [
    "df = pd.read_csv(r\"C:\\Users\\DELL\\OneDrive\\Documents\\healthcare_dataset_1.csv\")"
   ]
  },
  {
   "cell_type": "code",
   "execution_count": 71,
   "id": "fdab45b8-9eba-4676-ad59-6ffa88f254eb",
   "metadata": {},
   "outputs": [
    {
     "data": {
      "text/html": [
       "\n",
       "<h1 style = \"background-color: #556B2F;\n",
       "color:white; font-size: 30px;\n",
       "border-radius: 20px;\n",
       "padding: 16px;\n",
       "text-align: center;\">\n",
       "\n",
       " \n",
       "<span style = \"color: #9ACD32;\">Inspecting the Dataset</span>\n",
       "</h1>\n"
      ],
      "text/plain": [
       "<IPython.core.display.HTML object>"
      ]
     },
     "metadata": {},
     "output_type": "display_data"
    }
   ],
   "source": [
    "from IPython.display import HTML, display\n",
    "\n",
    "html_code = '''\n",
    "<h1 style = \"background-color: #556B2F;\n",
    "color:white; font-size: 30px;\n",
    "border-radius: 20px;\n",
    "padding: 16px;\n",
    "text-align: center;\">\n",
    "\n",
    " \n",
    "<span style = \"color: #9ACD32;\">Inspecting the Dataset</span>\n",
    "</h1>\n",
    "'''\n",
    "\n",
    "display(HTML(html_code))"
   ]
  },
  {
   "cell_type": "code",
   "execution_count": 32,
   "id": "a3c5a467-a62c-46d0-8dda-ed8bc4fedafc",
   "metadata": {},
   "outputs": [
    {
     "name": "stdout",
     "output_type": "stream",
     "text": [
      "<class 'pandas.core.frame.DataFrame'>\n",
      "RangeIndex: 55500 entries, 0 to 55499\n",
      "Data columns (total 15 columns):\n",
      " #   Column              Non-Null Count  Dtype  \n",
      "---  ------              --------------  -----  \n",
      " 0   Name                55500 non-null  object \n",
      " 1   Age                 55500 non-null  int64  \n",
      " 2   Gender              55500 non-null  object \n",
      " 3   Blood Type          55500 non-null  object \n",
      " 4   Medical Condition   55500 non-null  object \n",
      " 5   Date of Admission   55500 non-null  object \n",
      " 6   Doctor              55500 non-null  object \n",
      " 7   Hospital            55500 non-null  object \n",
      " 8   Insurance Provider  55500 non-null  object \n",
      " 9   Billing Amount      55500 non-null  float64\n",
      " 10  Room Number         55500 non-null  int64  \n",
      " 11  Admission Type      55500 non-null  object \n",
      " 12  Discharge Date      55500 non-null  object \n",
      " 13  Medication          55500 non-null  object \n",
      " 14  Test Results        55500 non-null  object \n",
      "dtypes: float64(1), int64(2), object(12)\n",
      "memory usage: 6.4+ MB\n"
     ]
    },
    {
     "data": {
      "text/html": [
       "<div>\n",
       "<style scoped>\n",
       "    .dataframe tbody tr th:only-of-type {\n",
       "        vertical-align: middle;\n",
       "    }\n",
       "\n",
       "    .dataframe tbody tr th {\n",
       "        vertical-align: top;\n",
       "    }\n",
       "\n",
       "    .dataframe thead th {\n",
       "        text-align: right;\n",
       "    }\n",
       "</style>\n",
       "<table border=\"1\" class=\"dataframe\">\n",
       "  <thead>\n",
       "    <tr style=\"text-align: right;\">\n",
       "      <th></th>\n",
       "      <th>Name</th>\n",
       "      <th>Age</th>\n",
       "      <th>Gender</th>\n",
       "      <th>Blood Type</th>\n",
       "      <th>Medical Condition</th>\n",
       "      <th>Date of Admission</th>\n",
       "      <th>Doctor</th>\n",
       "      <th>Hospital</th>\n",
       "      <th>Insurance Provider</th>\n",
       "      <th>Billing Amount</th>\n",
       "      <th>Room Number</th>\n",
       "      <th>Admission Type</th>\n",
       "      <th>Discharge Date</th>\n",
       "      <th>Medication</th>\n",
       "      <th>Test Results</th>\n",
       "    </tr>\n",
       "  </thead>\n",
       "  <tbody>\n",
       "    <tr>\n",
       "      <th>count</th>\n",
       "      <td>55500</td>\n",
       "      <td>55500.000000</td>\n",
       "      <td>55500</td>\n",
       "      <td>55500</td>\n",
       "      <td>55500</td>\n",
       "      <td>55500</td>\n",
       "      <td>55500</td>\n",
       "      <td>55500</td>\n",
       "      <td>55500</td>\n",
       "      <td>55500.000000</td>\n",
       "      <td>55500.000000</td>\n",
       "      <td>55500</td>\n",
       "      <td>55500</td>\n",
       "      <td>55500</td>\n",
       "      <td>55500</td>\n",
       "    </tr>\n",
       "    <tr>\n",
       "      <th>unique</th>\n",
       "      <td>49992</td>\n",
       "      <td>NaN</td>\n",
       "      <td>2</td>\n",
       "      <td>8</td>\n",
       "      <td>6</td>\n",
       "      <td>1827</td>\n",
       "      <td>40341</td>\n",
       "      <td>39876</td>\n",
       "      <td>5</td>\n",
       "      <td>NaN</td>\n",
       "      <td>NaN</td>\n",
       "      <td>3</td>\n",
       "      <td>1856</td>\n",
       "      <td>5</td>\n",
       "      <td>3</td>\n",
       "    </tr>\n",
       "    <tr>\n",
       "      <th>top</th>\n",
       "      <td>DAvId muNoZ</td>\n",
       "      <td>NaN</td>\n",
       "      <td>Male</td>\n",
       "      <td>A-</td>\n",
       "      <td>Arthritis</td>\n",
       "      <td>16-03-2024</td>\n",
       "      <td>Michael Smith</td>\n",
       "      <td>LLC Smith</td>\n",
       "      <td>Cigna</td>\n",
       "      <td>NaN</td>\n",
       "      <td>NaN</td>\n",
       "      <td>Elective</td>\n",
       "      <td>15-03-2020</td>\n",
       "      <td>Lipitor</td>\n",
       "      <td>Abnormal</td>\n",
       "    </tr>\n",
       "    <tr>\n",
       "      <th>freq</th>\n",
       "      <td>3</td>\n",
       "      <td>NaN</td>\n",
       "      <td>27774</td>\n",
       "      <td>6969</td>\n",
       "      <td>9308</td>\n",
       "      <td>50</td>\n",
       "      <td>27</td>\n",
       "      <td>44</td>\n",
       "      <td>11249</td>\n",
       "      <td>NaN</td>\n",
       "      <td>NaN</td>\n",
       "      <td>18655</td>\n",
       "      <td>53</td>\n",
       "      <td>11140</td>\n",
       "      <td>18627</td>\n",
       "    </tr>\n",
       "    <tr>\n",
       "      <th>mean</th>\n",
       "      <td>NaN</td>\n",
       "      <td>51.539459</td>\n",
       "      <td>NaN</td>\n",
       "      <td>NaN</td>\n",
       "      <td>NaN</td>\n",
       "      <td>NaN</td>\n",
       "      <td>NaN</td>\n",
       "      <td>NaN</td>\n",
       "      <td>NaN</td>\n",
       "      <td>25539.316097</td>\n",
       "      <td>301.134829</td>\n",
       "      <td>NaN</td>\n",
       "      <td>NaN</td>\n",
       "      <td>NaN</td>\n",
       "      <td>NaN</td>\n",
       "    </tr>\n",
       "    <tr>\n",
       "      <th>std</th>\n",
       "      <td>NaN</td>\n",
       "      <td>19.602454</td>\n",
       "      <td>NaN</td>\n",
       "      <td>NaN</td>\n",
       "      <td>NaN</td>\n",
       "      <td>NaN</td>\n",
       "      <td>NaN</td>\n",
       "      <td>NaN</td>\n",
       "      <td>NaN</td>\n",
       "      <td>14211.454431</td>\n",
       "      <td>115.243069</td>\n",
       "      <td>NaN</td>\n",
       "      <td>NaN</td>\n",
       "      <td>NaN</td>\n",
       "      <td>NaN</td>\n",
       "    </tr>\n",
       "    <tr>\n",
       "      <th>min</th>\n",
       "      <td>NaN</td>\n",
       "      <td>13.000000</td>\n",
       "      <td>NaN</td>\n",
       "      <td>NaN</td>\n",
       "      <td>NaN</td>\n",
       "      <td>NaN</td>\n",
       "      <td>NaN</td>\n",
       "      <td>NaN</td>\n",
       "      <td>NaN</td>\n",
       "      <td>-2008.492140</td>\n",
       "      <td>101.000000</td>\n",
       "      <td>NaN</td>\n",
       "      <td>NaN</td>\n",
       "      <td>NaN</td>\n",
       "      <td>NaN</td>\n",
       "    </tr>\n",
       "    <tr>\n",
       "      <th>25%</th>\n",
       "      <td>NaN</td>\n",
       "      <td>35.000000</td>\n",
       "      <td>NaN</td>\n",
       "      <td>NaN</td>\n",
       "      <td>NaN</td>\n",
       "      <td>NaN</td>\n",
       "      <td>NaN</td>\n",
       "      <td>NaN</td>\n",
       "      <td>NaN</td>\n",
       "      <td>13241.224655</td>\n",
       "      <td>202.000000</td>\n",
       "      <td>NaN</td>\n",
       "      <td>NaN</td>\n",
       "      <td>NaN</td>\n",
       "      <td>NaN</td>\n",
       "    </tr>\n",
       "    <tr>\n",
       "      <th>50%</th>\n",
       "      <td>NaN</td>\n",
       "      <td>52.000000</td>\n",
       "      <td>NaN</td>\n",
       "      <td>NaN</td>\n",
       "      <td>NaN</td>\n",
       "      <td>NaN</td>\n",
       "      <td>NaN</td>\n",
       "      <td>NaN</td>\n",
       "      <td>NaN</td>\n",
       "      <td>25538.069380</td>\n",
       "      <td>302.000000</td>\n",
       "      <td>NaN</td>\n",
       "      <td>NaN</td>\n",
       "      <td>NaN</td>\n",
       "      <td>NaN</td>\n",
       "    </tr>\n",
       "    <tr>\n",
       "      <th>75%</th>\n",
       "      <td>NaN</td>\n",
       "      <td>68.000000</td>\n",
       "      <td>NaN</td>\n",
       "      <td>NaN</td>\n",
       "      <td>NaN</td>\n",
       "      <td>NaN</td>\n",
       "      <td>NaN</td>\n",
       "      <td>NaN</td>\n",
       "      <td>NaN</td>\n",
       "      <td>37820.508432</td>\n",
       "      <td>401.000000</td>\n",
       "      <td>NaN</td>\n",
       "      <td>NaN</td>\n",
       "      <td>NaN</td>\n",
       "      <td>NaN</td>\n",
       "    </tr>\n",
       "    <tr>\n",
       "      <th>max</th>\n",
       "      <td>NaN</td>\n",
       "      <td>89.000000</td>\n",
       "      <td>NaN</td>\n",
       "      <td>NaN</td>\n",
       "      <td>NaN</td>\n",
       "      <td>NaN</td>\n",
       "      <td>NaN</td>\n",
       "      <td>NaN</td>\n",
       "      <td>NaN</td>\n",
       "      <td>52764.276740</td>\n",
       "      <td>500.000000</td>\n",
       "      <td>NaN</td>\n",
       "      <td>NaN</td>\n",
       "      <td>NaN</td>\n",
       "      <td>NaN</td>\n",
       "    </tr>\n",
       "  </tbody>\n",
       "</table>\n",
       "</div>"
      ],
      "text/plain": [
       "               Name           Age Gender Blood Type Medical Condition  \\\n",
       "count         55500  55500.000000  55500      55500             55500   \n",
       "unique        49992           NaN      2          8                 6   \n",
       "top     DAvId muNoZ           NaN   Male         A-         Arthritis   \n",
       "freq              3           NaN  27774       6969              9308   \n",
       "mean            NaN     51.539459    NaN        NaN               NaN   \n",
       "std             NaN     19.602454    NaN        NaN               NaN   \n",
       "min             NaN     13.000000    NaN        NaN               NaN   \n",
       "25%             NaN     35.000000    NaN        NaN               NaN   \n",
       "50%             NaN     52.000000    NaN        NaN               NaN   \n",
       "75%             NaN     68.000000    NaN        NaN               NaN   \n",
       "max             NaN     89.000000    NaN        NaN               NaN   \n",
       "\n",
       "       Date of Admission         Doctor   Hospital Insurance Provider  \\\n",
       "count              55500          55500      55500              55500   \n",
       "unique              1827          40341      39876                  5   \n",
       "top           16-03-2024  Michael Smith  LLC Smith              Cigna   \n",
       "freq                  50             27         44              11249   \n",
       "mean                 NaN            NaN        NaN                NaN   \n",
       "std                  NaN            NaN        NaN                NaN   \n",
       "min                  NaN            NaN        NaN                NaN   \n",
       "25%                  NaN            NaN        NaN                NaN   \n",
       "50%                  NaN            NaN        NaN                NaN   \n",
       "75%                  NaN            NaN        NaN                NaN   \n",
       "max                  NaN            NaN        NaN                NaN   \n",
       "\n",
       "        Billing Amount   Room Number Admission Type Discharge Date Medication  \\\n",
       "count     55500.000000  55500.000000          55500          55500      55500   \n",
       "unique             NaN           NaN              3           1856          5   \n",
       "top                NaN           NaN       Elective     15-03-2020    Lipitor   \n",
       "freq               NaN           NaN          18655             53      11140   \n",
       "mean      25539.316097    301.134829            NaN            NaN        NaN   \n",
       "std       14211.454431    115.243069            NaN            NaN        NaN   \n",
       "min       -2008.492140    101.000000            NaN            NaN        NaN   \n",
       "25%       13241.224655    202.000000            NaN            NaN        NaN   \n",
       "50%       25538.069380    302.000000            NaN            NaN        NaN   \n",
       "75%       37820.508432    401.000000            NaN            NaN        NaN   \n",
       "max       52764.276740    500.000000            NaN            NaN        NaN   \n",
       "\n",
       "       Test Results  \n",
       "count         55500  \n",
       "unique            3  \n",
       "top        Abnormal  \n",
       "freq          18627  \n",
       "mean            NaN  \n",
       "std             NaN  \n",
       "min             NaN  \n",
       "25%             NaN  \n",
       "50%             NaN  \n",
       "75%             NaN  \n",
       "max             NaN  "
      ]
     },
     "execution_count": 32,
     "metadata": {},
     "output_type": "execute_result"
    }
   ],
   "source": [
    "df_info = df.info()\n",
    "df_head = df.head()\n",
    "df.describe(include='all')"
   ]
  },
  {
   "cell_type": "code",
   "execution_count": 89,
   "id": "16ab19be-78a5-427a-be7b-5e8bf956c5cd",
   "metadata": {},
   "outputs": [
    {
     "data": {
      "text/html": [
       "\n",
       "<h1 style = \"background-color: #556B2F; font-size: 14px;\n",
       "border-radius: 20px;\n",
       "padding: 12px;\n",
       "border: 4px solid darkgreen\n",
       "text-align: left;\">\n",
       "\n",
       "<span style = \"color:white;\n",
       "\">✅ Step 1: Initial Inspection Summary\n",
       "<br><br></span> \n",
       "<span style = \"color:#9ACD32;\n",
       "\">The dataset has 55,500 records and 15 columns. Here's what we found:</span>\n",
       "<br><br><br><br>\n",
       "\n",
       "<span style = \"color:white;\n",
       "\">📋 Column Summary & Data Types:\n",
       "<br><br></span> \n",
       "\n",
       "<table style=\"width:100%; border-collapse: collapse; font-family: Arial, sans-serif; text-align: center;\">\n",
       "  <thead style=\"background-color:#2e7d32; color:white;\">\n",
       "    <tr>\n",
       "<th style=\"padding: 10px; vertical-align: middle;\">Column</th>\n",
       "      <th style=\"padding: 10px; vertical-align: middle;\">Type</th>\n",
       "      <th style=\"padding: 10px; vertical-align: middle;\">Notes</th>\n",
       "    </tr>\n",
       "  </thead>\n",
       "  <tbody>\n",
       "    <tr style=\"background-color:#c8e6c9;\">\n",
       "      <td style=\"padding: 10px; vertical-align: middle;\">Name</td>\n",
       "      <td style=\"padding: 10px; vertical-align: middle;\">Object</td>\n",
       "      <td style=\"padding: 10px; vertical-align: middle;\">Contains patient names (49,992 unique)</td>\n",
       "    </tr>\n",
       "    <tr style=\"background-color:#a5d6a7;\">\n",
       "      <td style=\"padding: 10px; vertical-align: middle;\">Age</td>\n",
       "      <td style=\"padding: 10px; vertical-align: middle;\">Integer</td>\n",
       "      <td style=\"padding: 10px; vertical-align: middle;\">Numeric, ranges from 13 to 89</td>\n",
       "    </tr>\n",
       "    <tr style=\"background-color:#c8e6c9;\">\n",
       "      <td style=\"padding: 10px; vertical-align: middle;\">Gender</td>\n",
       "      <td style=\"padding: 10px; vertical-align: middle;\">Object</td>\n",
       "      <td style=\"padding: 10px; vertical-align: middle;\">Male/Female</td>\n",
       "    </tr>\n",
       "    <tr style=\"background-color:#a5d6a7;\">\n",
       "      <td style=\"padding: 10px; vertical-align: middle;\">Blood Type</td>\n",
       "      <td style=\"padding: 10px; vertical-align: middle;\">Object</td>\n",
       "      <td style=\"padding: 10px; vertical-align: middle;\">8 types (e.g., A-, O+, etc.)</td>\n",
       "    </tr>\n",
       "    <tr style=\"background-color:#c8e6c9;\">\n",
       "      <td style=\"padding: 10px; vertical-align: middle;\">Medical Condition</td>\n",
       "      <td style=\"padding: 10px; vertical-align: middle;\">Object</td>\n",
       "      <td style=\"padding: 10px; vertical-align: middle;\">6 unique values (e.g., Arthritis)</td>\n",
       "    </tr>\n",
       "    <tr style=\"background-color:#a5d6a7;\">\n",
       "      <td style=\"padding: 10px; vertical-align: middle;\">Date of Admission</td>\n",
       "      <td style=\"padding: 10px; vertical-align: middle;\">Object</td>\n",
       "      <td style=\"padding: 10px; vertical-align: middle;\">Needs to be converted to datetime</td>\n",
       "    </tr>\n",
       "    <tr style=\"background-color:#c8e6c9;\">\n",
       "      <td style=\"padding: 10px; vertical-align: middle;\">Doctor</td>\n",
       "      <td style=\"padding: 10px; vertical-align: middle;\">Object</td>\n",
       "      <td style=\"padding: 10px; vertical-align: middle;\">40k+ unique doctors</td>\n",
       "    </tr>\n",
       "    <tr style=\"background-color:#a5d6a7;\">\n",
       "      <td style=\"padding: 10px; vertical-align: middle;\">Hospital</td>\n",
       "      <td style=\"padding: 10px; vertical-align: middle;\">Object</td>\n",
       "      <td style=\"padding: 10px; vertical-align: middle;\">39k+ unique hospitals</td>\n",
       "    </tr>\n",
       "    <tr style=\"background-color:#c8e6c9;\">\n",
       "      <td style=\"padding: 10px; vertical-align: middle;\">Insurance Provider</td>\n",
       "      <td style=\"padding: 10px; vertical-align: middle;\">Object</td>\n",
       "      <td style=\"padding: 10px; vertical-align: middle;\">Only 5 unique providers</td>\n",
       "    </tr>\n",
       "    <tr style=\"background-color:#a5d6a7;\">\n",
       "      <td style=\"padding: 10px; vertical-align: middle;\">Billing Amount</td>\n",
       "      <td style=\"padding: 10px; vertical-align: middle;\">Float</td>\n",
       "      <td style=\"padding: 10px; vertical-align: middle;\">Monetary; note: <strong>contains negative values</strong> ⚠️</td>\n",
       "    </tr>\n",
       "    <tr style=\"background-color:#c8e6c9;\">\n",
       "      <td style=\"padding: 10px; vertical-align: middle;\">Room Number</td>\n",
       "      <td style=\"padding: 10px; vertical-align: middle;\">Integer</td>\n",
       "      <td style=\"padding: 10px; vertical-align: middle;\">Ranges from 101 to 500</td>\n",
       "    </tr>\n",
       "    <tr style=\"background-color:#a5d6a7;\">\n",
       "      <td style=\"padding: 10px; vertical-align: middle;\">Admission Type</td>\n",
       "      <td style=\"padding: 10px; vertical-align: middle;\">Object</td>\n",
       "      <td style=\"padding: 10px; vertical-align: middle;\">3 types: likely Emergency, Elective, Urgent</td>\n",
       "    </tr>\n",
       "    <tr style=\"background-color:#c8e6c9;\">\n",
       "      <td style=\"padding: 10px; vertical-align: middle;\">Discharge Date</td>\n",
       "      <td style=\"padding: 10px; vertical-align: middle;\">Object</td>\n",
       "      <td style=\"padding: 10px; vertical-align: middle;\">Needs datetime conversion</td>\n",
       "    </tr>\n",
       "    <tr style=\"background-color:#a5d6a7;\">\n",
       "      <td style=\"padding: 10px; vertical-align: middle;\">Medication</td>\n",
       "      <td style=\"padding: 10px; vertical-align: middle;\">Object</td>\n",
       "      <td style=\"padding: 10px; vertical-align: middle;\">5 unique medications</td>\n",
       "    </tr>\n",
       "    <tr style=\"background-color:#c8e6c9;\">\n",
       "      <td style=\"padding: 10px; vertical-align: middle;\">Test Results</td>\n",
       "      <td style=\"padding: 10px; vertical-align: middle;\">Object</td>\n",
       "      <td style=\"padding: 10px; vertical-align: middle;\">3 results: likely Normal, Abnormal, Inconclusive</td>\n",
       "    </tr>\n",
       "\n",
       "  </tbody>\n",
       "</table>\n",
       "\n",
       "<br><br><br><br>\n",
       "\n",
       "<span style = \"color:white;\n",
       "\">⚠️ Data Issues to Address in Cleaning\n",
       "<br><br></span>\n",
       "<span style = \"color:#9ACD32;\n",
       "\"><ul>Convert Date of Admission and Discharge Date to datetime.</ul>\n",
       "  <ul>Handle negative billing amounts.</ul>\n",
       "  <ul>Check if patient stays (Discharge - Admission) make sense.</ul>\n",
       "  <ul>Validate and possibly encode categorical values.</ul>\n",
       "  <ul>Consider whether Name, Doctor, Hospital need to be dropped or encoded (high cardinality).</ul></span>\n",
       "\n",
       "<br>\n",
       "</h1>\n"
      ],
      "text/plain": [
       "<IPython.core.display.HTML object>"
      ]
     },
     "metadata": {},
     "output_type": "display_data"
    }
   ],
   "source": [
    "from IPython.display import HTML, display\n",
    "\n",
    "html_code = '''\n",
    "<h1 style = \"background-color: #556B2F; font-size: 14px;\n",
    "border-radius: 20px;\n",
    "padding: 12px;\n",
    "border: 4px solid darkgreen\n",
    "text-align: left;\">\n",
    "\n",
    "<span style = \"color:white;\n",
    "\">✅ Step 1: Initial Inspection Summary\n",
    "<br><br></span> \n",
    "<span style = \"color:#9ACD32;\n",
    "\">The dataset has 55,500 records and 15 columns. Here's what we found:</span>\n",
    "<br><br><br><br>\n",
    "\n",
    "<span style = \"color:white;\n",
    "\">📋 Column Summary & Data Types:\n",
    "<br><br></span> \n",
    "\n",
    "<table style=\"width:100%; border-collapse: collapse; font-family: Arial, sans-serif; text-align: center;\">\n",
    "  <thead style=\"background-color:#2e7d32; color:white;\">\n",
    "    <tr>\n",
    "<th style=\"padding: 10px; vertical-align: middle;\">Column</th>\n",
    "      <th style=\"padding: 10px; vertical-align: middle;\">Type</th>\n",
    "      <th style=\"padding: 10px; vertical-align: middle;\">Notes</th>\n",
    "    </tr>\n",
    "  </thead>\n",
    "  <tbody>\n",
    "    <tr style=\"background-color:#c8e6c9;\">\n",
    "      <td style=\"padding: 10px; vertical-align: middle;\">Name</td>\n",
    "      <td style=\"padding: 10px; vertical-align: middle;\">Object</td>\n",
    "      <td style=\"padding: 10px; vertical-align: middle;\">Contains patient names (49,992 unique)</td>\n",
    "    </tr>\n",
    "    <tr style=\"background-color:#a5d6a7;\">\n",
    "      <td style=\"padding: 10px; vertical-align: middle;\">Age</td>\n",
    "      <td style=\"padding: 10px; vertical-align: middle;\">Integer</td>\n",
    "      <td style=\"padding: 10px; vertical-align: middle;\">Numeric, ranges from 13 to 89</td>\n",
    "    </tr>\n",
    "    <tr style=\"background-color:#c8e6c9;\">\n",
    "      <td style=\"padding: 10px; vertical-align: middle;\">Gender</td>\n",
    "      <td style=\"padding: 10px; vertical-align: middle;\">Object</td>\n",
    "      <td style=\"padding: 10px; vertical-align: middle;\">Male/Female</td>\n",
    "    </tr>\n",
    "    <tr style=\"background-color:#a5d6a7;\">\n",
    "      <td style=\"padding: 10px; vertical-align: middle;\">Blood Type</td>\n",
    "      <td style=\"padding: 10px; vertical-align: middle;\">Object</td>\n",
    "      <td style=\"padding: 10px; vertical-align: middle;\">8 types (e.g., A-, O+, etc.)</td>\n",
    "    </tr>\n",
    "    <tr style=\"background-color:#c8e6c9;\">\n",
    "      <td style=\"padding: 10px; vertical-align: middle;\">Medical Condition</td>\n",
    "      <td style=\"padding: 10px; vertical-align: middle;\">Object</td>\n",
    "      <td style=\"padding: 10px; vertical-align: middle;\">6 unique values (e.g., Arthritis)</td>\n",
    "    </tr>\n",
    "    <tr style=\"background-color:#a5d6a7;\">\n",
    "      <td style=\"padding: 10px; vertical-align: middle;\">Date of Admission</td>\n",
    "      <td style=\"padding: 10px; vertical-align: middle;\">Object</td>\n",
    "      <td style=\"padding: 10px; vertical-align: middle;\">Needs to be converted to datetime</td>\n",
    "    </tr>\n",
    "    <tr style=\"background-color:#c8e6c9;\">\n",
    "      <td style=\"padding: 10px; vertical-align: middle;\">Doctor</td>\n",
    "      <td style=\"padding: 10px; vertical-align: middle;\">Object</td>\n",
    "      <td style=\"padding: 10px; vertical-align: middle;\">40k+ unique doctors</td>\n",
    "    </tr>\n",
    "    <tr style=\"background-color:#a5d6a7;\">\n",
    "      <td style=\"padding: 10px; vertical-align: middle;\">Hospital</td>\n",
    "      <td style=\"padding: 10px; vertical-align: middle;\">Object</td>\n",
    "      <td style=\"padding: 10px; vertical-align: middle;\">39k+ unique hospitals</td>\n",
    "    </tr>\n",
    "    <tr style=\"background-color:#c8e6c9;\">\n",
    "      <td style=\"padding: 10px; vertical-align: middle;\">Insurance Provider</td>\n",
    "      <td style=\"padding: 10px; vertical-align: middle;\">Object</td>\n",
    "      <td style=\"padding: 10px; vertical-align: middle;\">Only 5 unique providers</td>\n",
    "    </tr>\n",
    "    <tr style=\"background-color:#a5d6a7;\">\n",
    "      <td style=\"padding: 10px; vertical-align: middle;\">Billing Amount</td>\n",
    "      <td style=\"padding: 10px; vertical-align: middle;\">Float</td>\n",
    "      <td style=\"padding: 10px; vertical-align: middle;\">Monetary; note: <strong>contains negative values</strong> ⚠️</td>\n",
    "    </tr>\n",
    "    <tr style=\"background-color:#c8e6c9;\">\n",
    "      <td style=\"padding: 10px; vertical-align: middle;\">Room Number</td>\n",
    "      <td style=\"padding: 10px; vertical-align: middle;\">Integer</td>\n",
    "      <td style=\"padding: 10px; vertical-align: middle;\">Ranges from 101 to 500</td>\n",
    "    </tr>\n",
    "    <tr style=\"background-color:#a5d6a7;\">\n",
    "      <td style=\"padding: 10px; vertical-align: middle;\">Admission Type</td>\n",
    "      <td style=\"padding: 10px; vertical-align: middle;\">Object</td>\n",
    "      <td style=\"padding: 10px; vertical-align: middle;\">3 types: likely Emergency, Elective, Urgent</td>\n",
    "    </tr>\n",
    "    <tr style=\"background-color:#c8e6c9;\">\n",
    "      <td style=\"padding: 10px; vertical-align: middle;\">Discharge Date</td>\n",
    "      <td style=\"padding: 10px; vertical-align: middle;\">Object</td>\n",
    "      <td style=\"padding: 10px; vertical-align: middle;\">Needs datetime conversion</td>\n",
    "    </tr>\n",
    "    <tr style=\"background-color:#a5d6a7;\">\n",
    "      <td style=\"padding: 10px; vertical-align: middle;\">Medication</td>\n",
    "      <td style=\"padding: 10px; vertical-align: middle;\">Object</td>\n",
    "      <td style=\"padding: 10px; vertical-align: middle;\">5 unique medications</td>\n",
    "    </tr>\n",
    "    <tr style=\"background-color:#c8e6c9;\">\n",
    "      <td style=\"padding: 10px; vertical-align: middle;\">Test Results</td>\n",
    "      <td style=\"padding: 10px; vertical-align: middle;\">Object</td>\n",
    "      <td style=\"padding: 10px; vertical-align: middle;\">3 results: likely Normal, Abnormal, Inconclusive</td>\n",
    "    </tr>\n",
    "\n",
    "  </tbody>\n",
    "</table>\n",
    "\n",
    "<br><br><br><br>\n",
    "\n",
    "<span style = \"color:white;\n",
    "\">⚠️ Data Issues to Address in Cleaning\n",
    "<br><br></span>\n",
    "<span style = \"color:#9ACD32;\n",
    "\"><ul>Convert Date of Admission and Discharge Date to datetime.</ul>\n",
    "  <ul>Handle negative billing amounts.</ul>\n",
    "  <ul>Check if patient stays (Discharge - Admission) make sense.</ul>\n",
    "  <ul>Validate and possibly encode categorical values.</ul>\n",
    "  <ul>Consider whether Name, Doctor, Hospital need to be dropped or encoded (high cardinality).</ul></span>\n",
    "\n",
    "<br>\n",
    "</h1>\n",
    "'''\n",
    "\n",
    "display(HTML(html_code))\n"
   ]
  },
  {
   "cell_type": "code",
   "execution_count": 90,
   "id": "5e16661a-34ee-4504-871a-6a702861f62d",
   "metadata": {},
   "outputs": [
    {
     "data": {
      "text/html": [
       "\n",
       "<h1 style = \"background-color: #556B2F;\n",
       "color:white; font-size: 30px;\n",
       "border-radius: 20px;\n",
       "padding: 16px;\n",
       "text-align: center;\">\n",
       "\n",
       " \n",
       "<span style = \"color: #9ACD32;\">Data Cleaning</span>\n",
       "</h1>\n"
      ],
      "text/plain": [
       "<IPython.core.display.HTML object>"
      ]
     },
     "metadata": {},
     "output_type": "display_data"
    }
   ],
   "source": [
    "from IPython.display import HTML, display\n",
    "\n",
    "html_code = '''\n",
    "<h1 style = \"background-color: #556B2F;\n",
    "color:white; font-size: 30px;\n",
    "border-radius: 20px;\n",
    "padding: 16px;\n",
    "text-align: center;\">\n",
    "\n",
    " \n",
    "<span style = \"color: #9ACD32;\">Data Cleaning</span>\n",
    "</h1>\n",
    "'''\n",
    "\n",
    "display(HTML(html_code))"
   ]
  },
  {
   "cell_type": "code",
   "execution_count": 96,
   "id": "43003812-0d78-444d-9236-b554489ffa58",
   "metadata": {},
   "outputs": [
    {
     "data": {
      "text/html": [
       "\n",
       "<h1 style = \"background-color: #556B2F;\n",
       "color:white; font-size: 20px;\n",
       "border-radius: 20px;\n",
       "padding: 16px;\n",
       "text-align: left;\">\n",
       "\n",
       " \n",
       "<span style = \"color: #9ACD32;\">Converting date columns to datetime</span>\n",
       "</h1>\n"
      ],
      "text/plain": [
       "<IPython.core.display.HTML object>"
      ]
     },
     "metadata": {},
     "output_type": "display_data"
    }
   ],
   "source": [
    "from IPython.display import HTML, display\n",
    "\n",
    "html_code = '''\n",
    "<h1 style = \"background-color: #556B2F;\n",
    "color:white; font-size: 20px;\n",
    "border-radius: 20px;\n",
    "padding: 16px;\n",
    "text-align: left;\">\n",
    "\n",
    " \n",
    "<span style = \"color: #9ACD32;\">Converting date columns to datetime</span>\n",
    "</h1>\n",
    "'''\n",
    "\n",
    "display(HTML(html_code))"
   ]
  },
  {
   "cell_type": "code",
   "execution_count": 138,
   "id": "689cab21-bcf0-407d-9634-41ff6d4654df",
   "metadata": {},
   "outputs": [],
   "source": [
    "# Converting date columns to datetime\n",
    "\n",
    "df['Date of Admission'] = pd.to_datetime(df['Date of Admission'], format=\"%d-%m-%Y\")\n",
    "df['Discharge Date'] = pd.to_datetime(df['Discharge Date'], format=\"%d-%m-%Y\")"
   ]
  },
  {
   "cell_type": "code",
   "execution_count": 98,
   "id": "1e7704c1-fb90-4be6-971b-d5894f8183d5",
   "metadata": {},
   "outputs": [
    {
     "data": {
      "text/html": [
       "\n",
       "<h1 style = \"background-color: #556B2F;\n",
       "color:white; font-size: 20px;\n",
       "border-radius: 20px;\n",
       "padding: 16px;\n",
       "text-align: left;\">\n",
       "\n",
       " \n",
       "<span style = \"color: #9ACD32;\">Checking for negative billing amounts\n",
       "</span>\n",
       "</h1>\n"
      ],
      "text/plain": [
       "<IPython.core.display.HTML object>"
      ]
     },
     "metadata": {},
     "output_type": "display_data"
    }
   ],
   "source": [
    "from IPython.display import HTML, display\n",
    "\n",
    "html_code = '''\n",
    "<h1 style = \"background-color: #556B2F;\n",
    "color:white; font-size: 20px;\n",
    "border-radius: 20px;\n",
    "padding: 16px;\n",
    "text-align: left;\">\n",
    "\n",
    " \n",
    "<span style = \"color: #9ACD32;\">Checking for negative billing amounts\n",
    "</span>\n",
    "</h1>\n",
    "'''\n",
    "\n",
    "display(HTML(html_code))"
   ]
  },
  {
   "cell_type": "code",
   "execution_count": 34,
   "id": "de2d8e68-82b6-4723-b981-5ae702e1a628",
   "metadata": {},
   "outputs": [],
   "source": [
    "negative_billing = df[df[\"Billing Amount\"]<0]"
   ]
  },
  {
   "cell_type": "code",
   "execution_count": 100,
   "id": "76bdddaa-6c46-4803-8607-77e1cadeb05b",
   "metadata": {},
   "outputs": [
    {
     "data": {
      "text/html": [
       "\n",
       "<h1 style = \"background-color: #556B2F;\n",
       "color:white; font-size: 20px;\n",
       "border-radius: 20px;\n",
       "padding: 16px;\n",
       "text-align: left;\">\n",
       "\n",
       " \n",
       "<span style = \"color: #9ACD32;\">Calculating Length of Stay and adding it as a new column\n",
       "</span>\n",
       "</h1>\n"
      ],
      "text/plain": [
       "<IPython.core.display.HTML object>"
      ]
     },
     "metadata": {},
     "output_type": "display_data"
    }
   ],
   "source": [
    "from IPython.display import HTML, display\n",
    "\n",
    "html_code = '''\n",
    "<h1 style = \"background-color: #556B2F;\n",
    "color:white; font-size: 20px;\n",
    "border-radius: 20px;\n",
    "padding: 16px;\n",
    "text-align: left;\">\n",
    "\n",
    " \n",
    "<span style = \"color: #9ACD32;\">Calculating Length of Stay and adding it as a new column\n",
    "</span>\n",
    "</h1>\n",
    "'''\n",
    "\n",
    "display(HTML(html_code))"
   ]
  },
  {
   "cell_type": "code",
   "execution_count": 139,
   "id": "cd4fa1ae-ec78-4784-88cd-30a479aff097",
   "metadata": {},
   "outputs": [],
   "source": [
    "df[\"Length of Stay\"] = (df[\"Discharge Date\"] - df[\"Date of Admission\"]).dt.days"
   ]
  },
  {
   "cell_type": "code",
   "execution_count": 101,
   "id": "68357b41-e408-44b2-b9c5-030573e96098",
   "metadata": {},
   "outputs": [
    {
     "data": {
      "text/html": [
       "\n",
       "<h1 style = \"background-color: #556B2F;\n",
       "color:white; font-size: 20px;\n",
       "border-radius: 20px;\n",
       "padding: 16px;\n",
       "text-align: left;\">\n",
       "\n",
       " \n",
       "<span style = \"color: #9ACD32;\">Sanity check: removing rows with negative billing or negative stay durations\n",
       "</span>\n",
       "</h1>\n"
      ],
      "text/plain": [
       "<IPython.core.display.HTML object>"
      ]
     },
     "metadata": {},
     "output_type": "display_data"
    }
   ],
   "source": [
    "from IPython.display import HTML, display\n",
    "\n",
    "html_code = '''\n",
    "<h1 style = \"background-color: #556B2F;\n",
    "color:white; font-size: 20px;\n",
    "border-radius: 20px;\n",
    "padding: 16px;\n",
    "text-align: left;\">\n",
    "\n",
    " \n",
    "<span style = \"color: #9ACD32;\">Sanity check: removing rows with negative billing or negative stay durations\n",
    "</span>\n",
    "</h1>\n",
    "'''\n",
    "\n",
    "display(HTML(html_code))"
   ]
  },
  {
   "cell_type": "code",
   "execution_count": 36,
   "id": "eaa8c363-dfbc-44be-bdbe-1ff3a226e5b6",
   "metadata": {},
   "outputs": [],
   "source": [
    "df_cleaned = df[(df[\"Billing Amount\"] >= 0) & (df[\"Length of Stay\"] >= 0)]"
   ]
  },
  {
   "cell_type": "code",
   "execution_count": 102,
   "id": "47294d84-a731-41a6-98a1-480c53c591c8",
   "metadata": {},
   "outputs": [
    {
     "data": {
      "text/html": [
       "\n",
       "<h1 style = \"background-color: #556B2F;\n",
       "color:white; font-size: 20px;\n",
       "border-radius: 20px;\n",
       "padding: 16px;\n",
       "text-align: left;\">\n",
       "\n",
       " \n",
       "<span style = \"color: #9ACD32;\">Final data types check\n",
       "</span>\n",
       "</h1>\n"
      ],
      "text/plain": [
       "<IPython.core.display.HTML object>"
      ]
     },
     "metadata": {},
     "output_type": "display_data"
    }
   ],
   "source": [
    "from IPython.display import HTML, display\n",
    "\n",
    "html_code = '''\n",
    "<h1 style = \"background-color: #556B2F;\n",
    "color:white; font-size: 20px;\n",
    "border-radius: 20px;\n",
    "padding: 16px;\n",
    "text-align: left;\">\n",
    "\n",
    " \n",
    "<span style = \"color: #9ACD32;\">Final data types check\n",
    "</span>\n",
    "</h1>\n",
    "'''\n",
    "\n",
    "display(HTML(html_code))"
   ]
  },
  {
   "cell_type": "code",
   "execution_count": 37,
   "id": "3c90ac3e-18cc-4cea-bef1-91311f3b36ce",
   "metadata": {},
   "outputs": [
    {
     "name": "stdout",
     "output_type": "stream",
     "text": [
      "<class 'pandas.core.frame.DataFrame'>\n",
      "Index: 55392 entries, 0 to 55499\n",
      "Data columns (total 16 columns):\n",
      " #   Column              Non-Null Count  Dtype         \n",
      "---  ------              --------------  -----         \n",
      " 0   Name                55392 non-null  object        \n",
      " 1   Age                 55392 non-null  int64         \n",
      " 2   Gender              55392 non-null  object        \n",
      " 3   Blood Type          55392 non-null  object        \n",
      " 4   Medical Condition   55392 non-null  object        \n",
      " 5   Date of Admission   55392 non-null  datetime64[ns]\n",
      " 6   Doctor              55392 non-null  object        \n",
      " 7   Hospital            55392 non-null  object        \n",
      " 8   Insurance Provider  55392 non-null  object        \n",
      " 9   Billing Amount      55392 non-null  float64       \n",
      " 10  Room Number         55392 non-null  int64         \n",
      " 11  Admission Type      55392 non-null  object        \n",
      " 12  Discharge Date      55392 non-null  datetime64[ns]\n",
      " 13  Medication          55392 non-null  object        \n",
      " 14  Test Results        55392 non-null  object        \n",
      " 15  Length of Stay      55392 non-null  int64         \n",
      "dtypes: datetime64[ns](2), float64(1), int64(3), object(10)\n",
      "memory usage: 7.2+ MB\n"
     ]
    }
   ],
   "source": [
    "df_cleaned_info = df_cleaned.info()"
   ]
  },
  {
   "cell_type": "code",
   "execution_count": 103,
   "id": "14230fb8-1063-498d-91a0-5eadbbd854b7",
   "metadata": {},
   "outputs": [
    {
     "data": {
      "text/html": [
       "\n",
       "<h1 style = \"background-color: #556B2F;\n",
       "color:white; font-size: 20px;\n",
       "border-radius: 20px;\n",
       "padding: 16px;\n",
       "text-align: left;\">\n",
       "\n",
       " \n",
       "<span style = \"color: #9ACD32;\">Checking how many rows were dropped\n",
       "</span>\n",
       "</h1>\n"
      ],
      "text/plain": [
       "<IPython.core.display.HTML object>"
      ]
     },
     "metadata": {},
     "output_type": "display_data"
    }
   ],
   "source": [
    "from IPython.display import HTML, display\n",
    "\n",
    "html_code = '''\n",
    "<h1 style = \"background-color: #556B2F;\n",
    "color:white; font-size: 20px;\n",
    "border-radius: 20px;\n",
    "padding: 16px;\n",
    "text-align: left;\">\n",
    "\n",
    " \n",
    "<span style = \"color: #9ACD32;\">Checking how many rows were dropped\n",
    "</span>\n",
    "</h1>\n",
    "'''\n",
    "\n",
    "display(HTML(html_code))"
   ]
  },
  {
   "cell_type": "code",
   "execution_count": 38,
   "id": "1fb88ef5-a4c2-4ece-adf1-f33edcc86436",
   "metadata": {},
   "outputs": [],
   "source": [
    "rows_dropped = df.shape[0] - df_cleaned.shape[0]"
   ]
  },
  {
   "cell_type": "code",
   "execution_count": 39,
   "id": "fa0bcbb7-55f3-4410-a199-4df87a8dfb59",
   "metadata": {},
   "outputs": [
    {
     "data": {
      "text/plain": [
       "(108, None)"
      ]
     },
     "execution_count": 39,
     "metadata": {},
     "output_type": "execute_result"
    }
   ],
   "source": [
    "rows_dropped, df_cleaned_info"
   ]
  },
  {
   "cell_type": "code",
   "execution_count": 109,
   "id": "fd40cd90-23ea-47a6-b05a-7aa7d0eee078",
   "metadata": {},
   "outputs": [
    {
     "data": {
      "text/html": [
       "\n",
       "<h1 style = \"background-color: #556B2F; font-size: 14px;\n",
       "border-radius: 20px;\n",
       "padding: 12px;\n",
       "border: 4px solid darkgreen\n",
       "text-align: left;\">\n",
       "\n",
       "<span style = \"color:white;\n",
       "\">✅ Step 2: Data Cleaning Summary\n",
       "<br><br></span> \n",
       "<span style = \"color:#9ACD32;\n",
       "\">Here's what we have done:</span>\n",
       "<br><br>\n",
       "\n",
       "<span style = \"color:white;\n",
       "\">🔧 Fixes Applied\n",
       "<br><br></span>\n",
       "<span style = \"color:#9ACD32;\n",
       "\"><ul>✅ Converted: Date of Admission and Discharge Date → datetime. </ul>\n",
       "  <ul>✅ Calculated: Length of Stay = Discharge Date − Date of Admission.</ul>\n",
       "  <ul>✅ Removed: 108 rows with either negative billing or negative stay durations. </ul>\n",
       "  </span>\n",
       "<br><br>\n",
       "<span style = \"color:white;\n",
       "\">📊 Cleaned Dataset Overview\n",
       "<br><br></span>\n",
       "<span style = \"color:#9ACD32;\n",
       "\"><ul>✅ Final Rows: 55,392 </ul>\n",
       "  <ul>✅ Columns: 16 (including Length of Stay)</ul>\n",
       "  <ul>✅ All columns now have proper data types </ul>\n",
       "  </span>\n",
       "\n",
       "<br>\n",
       "</h1>\n"
      ],
      "text/plain": [
       "<IPython.core.display.HTML object>"
      ]
     },
     "metadata": {},
     "output_type": "display_data"
    }
   ],
   "source": [
    "from IPython.display import HTML, display\n",
    "\n",
    "html_code = '''\n",
    "<h1 style = \"background-color: #556B2F; font-size: 14px;\n",
    "border-radius: 20px;\n",
    "padding: 12px;\n",
    "border: 4px solid darkgreen\n",
    "text-align: left;\">\n",
    "\n",
    "<span style = \"color:white;\n",
    "\">✅ Step 2: Data Cleaning Summary\n",
    "<br><br></span> \n",
    "<span style = \"color:#9ACD32;\n",
    "\">Here's what we have done:</span>\n",
    "<br><br>\n",
    "\n",
    "<span style = \"color:white;\n",
    "\">🔧 Fixes Applied\n",
    "<br><br></span>\n",
    "<span style = \"color:#9ACD32;\n",
    "\"><ul>✅ Converted: Date of Admission and Discharge Date → datetime. </ul>\n",
    "  <ul>✅ Calculated: Length of Stay = Discharge Date − Date of Admission.</ul>\n",
    "  <ul>✅ Removed: 108 rows with either negative billing or negative stay durations. </ul>\n",
    "  </span>\n",
    "<br><br>\n",
    "<span style = \"color:white;\n",
    "\">📊 Cleaned Dataset Overview\n",
    "<br><br></span>\n",
    "<span style = \"color:#9ACD32;\n",
    "\"><ul>✅ Final Rows: 55,392 </ul>\n",
    "  <ul>✅ Columns: 16 (including Length of Stay)</ul>\n",
    "  <ul>✅ All columns now have proper data types </ul>\n",
    "  </span>\n",
    "\n",
    "<br>\n",
    "</h1>\n",
    "'''\n",
    "\n",
    "display(HTML(html_code))\n"
   ]
  },
  {
   "cell_type": "code",
   "execution_count": 111,
   "id": "cf884d90-9019-417b-b048-40ad7708ba4c",
   "metadata": {},
   "outputs": [
    {
     "data": {
      "text/html": [
       "\n",
       "<h1 style = \"background-color: #556B2F; font-size: 14px;\n",
       "border-radius: 20px;\n",
       "padding: 12px;\n",
       "border: 4px solid darkgreen\n",
       "text-align: left;\">\n",
       "\n",
       "<span style = \"color:white;\n",
       "\">🧪 Next Step: EDA (Step 3)\n",
       "<br><br></span> \n",
       "<span style = \"color:#9ACD32;\n",
       "\">We’ll now:</span>\n",
       "<br><br>\n",
       "\n",
       "<span style = \"color:#9ACD32;\n",
       "\"><ul>Analyze distributions (age, stay duration, billing) </ul>\n",
       "  <ul>Explore relationships (e.g., billing vs stay)</ul>\n",
       "  <ul>Visualize categorical breakdowns (e.g., gender, admission type, condition)\n",
       "\n",
       "</ul>\n",
       "  </span>\n",
       "<br>\n",
       "</h1>\n"
      ],
      "text/plain": [
       "<IPython.core.display.HTML object>"
      ]
     },
     "metadata": {},
     "output_type": "display_data"
    }
   ],
   "source": [
    "from IPython.display import HTML, display\n",
    "\n",
    "html_code = '''\n",
    "<h1 style = \"background-color: #556B2F; font-size: 14px;\n",
    "border-radius: 20px;\n",
    "padding: 12px;\n",
    "border: 4px solid darkgreen\n",
    "text-align: left;\">\n",
    "\n",
    "<span style = \"color:white;\n",
    "\">🧪 Next Step: EDA (Step 3)\n",
    "<br><br></span> \n",
    "<span style = \"color:#9ACD32;\n",
    "\">We’ll now:</span>\n",
    "<br><br>\n",
    "\n",
    "<span style = \"color:#9ACD32;\n",
    "\"><ul>Analyze distributions (age, stay duration, billing) </ul>\n",
    "  <ul>Explore relationships (e.g., billing vs stay)</ul>\n",
    "  <ul>Visualize categorical breakdowns (e.g., gender, admission type, condition)\n",
    "\n",
    "</ul>\n",
    "  </span>\n",
    "<br>\n",
    "</h1>\n",
    "'''\n",
    "\n",
    "display(HTML(html_code))\n"
   ]
  },
  {
   "cell_type": "code",
   "execution_count": 112,
   "id": "edd5385a-0c0d-4015-99b7-da6de928eddc",
   "metadata": {},
   "outputs": [
    {
     "data": {
      "text/html": [
       "\n",
       "<h1 style = \"background-color: #556B2F;\n",
       "color:white; font-size: 30px;\n",
       "border-radius: 20px;\n",
       "padding: 16px;\n",
       "text-align: center;\">\n",
       "\n",
       " \n",
       "<span style = \"color: #9ACD32;\">Data Visualization</span>\n",
       "</h1>\n"
      ],
      "text/plain": [
       "<IPython.core.display.HTML object>"
      ]
     },
     "metadata": {},
     "output_type": "display_data"
    }
   ],
   "source": [
    "from IPython.display import HTML, display\n",
    "\n",
    "html_code = '''\n",
    "<h1 style = \"background-color: #556B2F;\n",
    "color:white; font-size: 30px;\n",
    "border-radius: 20px;\n",
    "padding: 16px;\n",
    "text-align: center;\">\n",
    "\n",
    " \n",
    "<span style = \"color: #9ACD32;\">Data Visualization</span>\n",
    "</h1>\n",
    "'''\n",
    "\n",
    "display(HTML(html_code))"
   ]
  },
  {
   "cell_type": "code",
   "execution_count": 116,
   "id": "745ee885-db39-4fbf-b2b3-1f39bc7dd407",
   "metadata": {},
   "outputs": [
    {
     "data": {
      "text/html": [
       "\n",
       "<h1 style = \"background-color: #556B2F;\n",
       "color:white; font-size: 20px;\n",
       "border-radius: 20px;\n",
       "padding: 16px;\n",
       "text-align: left;\">\n",
       "\n",
       " \n",
       "<span style = \"color: #9ACD32;\">Setting the Theme\n",
       "</span>\n",
       "</h1>\n"
      ],
      "text/plain": [
       "<IPython.core.display.HTML object>"
      ]
     },
     "metadata": {},
     "output_type": "display_data"
    }
   ],
   "source": [
    "from IPython.display import HTML, display\n",
    "\n",
    "html_code = '''\n",
    "<h1 style = \"background-color: #556B2F;\n",
    "color:white; font-size: 20px;\n",
    "border-radius: 20px;\n",
    "padding: 16px;\n",
    "text-align: left;\">\n",
    "\n",
    " \n",
    "<span style = \"color: #9ACD32;\">Setting the Theme\n",
    "</span>\n",
    "</h1>\n",
    "'''\n",
    "\n",
    "display(HTML(html_code))"
   ]
  },
  {
   "cell_type": "code",
   "execution_count": 117,
   "id": "a8a51d30-b1e7-46e9-b8d7-551aa1c6dbc2",
   "metadata": {},
   "outputs": [],
   "source": [
    "sns.set(style=\"whitegrid\")\n",
    "plt.rcParams[\"figure.figsize\"] = (10, 6)"
   ]
  },
  {
   "cell_type": "code",
   "execution_count": 118,
   "id": "41b45d82-23b0-4d68-9cf6-85032a176b6e",
   "metadata": {},
   "outputs": [
    {
     "data": {
      "text/html": [
       "\n",
       "<h1 style = \"background-color: #556B2F;\n",
       "color:white; font-size: 20px;\n",
       "border-radius: 20px;\n",
       "padding: 16px;\n",
       "text-align: left;\">\n",
       "\n",
       " \n",
       "<span style = \"color: #9ACD32;\">Distribution of Age\n",
       "</span>\n",
       "</h1>\n"
      ],
      "text/plain": [
       "<IPython.core.display.HTML object>"
      ]
     },
     "metadata": {},
     "output_type": "display_data"
    }
   ],
   "source": [
    "from IPython.display import HTML, display\n",
    "\n",
    "html_code = '''\n",
    "<h1 style = \"background-color: #556B2F;\n",
    "color:white; font-size: 20px;\n",
    "border-radius: 20px;\n",
    "padding: 16px;\n",
    "text-align: left;\">\n",
    "\n",
    " \n",
    "<span style = \"color: #9ACD32;\">Distribution of Age\n",
    "</span>\n",
    "</h1>\n",
    "'''\n",
    "\n",
    "display(HTML(html_code))"
   ]
  },
  {
   "cell_type": "code",
   "execution_count": 119,
   "id": "2f143ee4-35c7-4b43-b81d-576a9bbf7acc",
   "metadata": {},
   "outputs": [
    {
     "data": {
      "image/png": "[encoded data removed]",
      "text/plain": [
       "<Figure size 1000x600 with 1 Axes>"
      ]
     },
     "metadata": {},
     "output_type": "display_data"
    }
   ],
   "source": [
    "plt.figure()\n",
    "sns.histplot(df_cleaned[\"Age\"], bins=30, kde=True, color='skyblue')\n",
    "plt.title(\"Age Distribution\")\n",
    "plt.xlabel(\"Age\")\n",
    "plt.ylabel(\"Frequency\")\n",
    "plt.show()"
   ]
  },
  {
   "cell_type": "code",
   "execution_count": 115,
   "id": "edefff32-3f59-4e32-a310-65f3211a6087",
   "metadata": {},
   "outputs": [
    {
     "data": {
      "text/html": [
       "\n",
       "<h1 style = \"background-color: #556B2F;\n",
       "color:white; font-size: 20px;\n",
       "border-radius: 20px;\n",
       "padding: 16px;\n",
       "text-align: left;\">\n",
       "\n",
       " \n",
       "<span style = \"color: #9ACD32;\">Distribution of Billing Amount\n",
       "</span>\n",
       "</h1>\n"
      ],
      "text/plain": [
       "<IPython.core.display.HTML object>"
      ]
     },
     "metadata": {},
     "output_type": "display_data"
    }
   ],
   "source": [
    "from IPython.display import HTML, display\n",
    "\n",
    "html_code = '''\n",
    "<h1 style = \"background-color: #556B2F;\n",
    "color:white; font-size: 20px;\n",
    "border-radius: 20px;\n",
    "padding: 16px;\n",
    "text-align: left;\">\n",
    "\n",
    " \n",
    "<span style = \"color: #9ACD32;\">Distribution of Billing Amount\n",
    "</span>\n",
    "</h1>\n",
    "'''\n",
    "\n",
    "display(HTML(html_code))"
   ]
  },
  {
   "cell_type": "code",
   "execution_count": 42,
   "id": "728081df-b0ff-407b-b258-1a8785d938cc",
   "metadata": {},
   "outputs": [
    {
     "data": {
      "image/png": "[encoded data removed]",
      "text/plain": [
       "<Figure size 1000x600 with 1 Axes>"
      ]
     },
     "metadata": {},
     "output_type": "display_data"
    }
   ],
   "source": [
    "plt.figure()\n",
    "sns.histplot(df_cleaned[\"Billing Amount\"], bins=30, kde=True, color=\"salmon\")\n",
    "plt.title(\"Billing Amount Distribution\")\n",
    "plt.xlabel(\"Billing Amount\")\n",
    "plt.ylabel(\"Frequency\")\n",
    "plt.show()"
   ]
  },
  {
   "cell_type": "code",
   "execution_count": 120,
   "id": "c507104d-1316-4966-bd27-a3751035c9b4",
   "metadata": {},
   "outputs": [
    {
     "data": {
      "text/html": [
       "\n",
       "<h1 style = \"background-color: #556B2F;\n",
       "color:white; font-size: 20px;\n",
       "border-radius: 20px;\n",
       "padding: 16px;\n",
       "text-align: left;\">\n",
       "\n",
       " \n",
       "<span style = \"color: #9ACD32;\">Distribution of Length of Stay\n",
       "</span>\n",
       "</h1>\n"
      ],
      "text/plain": [
       "<IPython.core.display.HTML object>"
      ]
     },
     "metadata": {},
     "output_type": "display_data"
    }
   ],
   "source": [
    "from IPython.display import HTML, display\n",
    "\n",
    "html_code = '''\n",
    "<h1 style = \"background-color: #556B2F;\n",
    "color:white; font-size: 20px;\n",
    "border-radius: 20px;\n",
    "padding: 16px;\n",
    "text-align: left;\">\n",
    "\n",
    " \n",
    "<span style = \"color: #9ACD32;\">Distribution of Length of Stay\n",
    "</span>\n",
    "</h1>\n",
    "'''\n",
    "\n",
    "display(HTML(html_code))"
   ]
  },
  {
   "cell_type": "code",
   "execution_count": 43,
   "id": "3249309e-46ab-4778-93cd-8477fb8ecdfb",
   "metadata": {},
   "outputs": [
    {
     "data": {
      "image/png": "[encoded data removed]",
      "text/plain": [
       "<Figure size 1000x600 with 1 Axes>"
      ]
     },
     "metadata": {},
     "output_type": "display_data"
    }
   ],
   "source": [
    "plt.figure()\n",
    "sns.histplot(df_cleaned[\"Length of Stay\"], bins=30, kde=True, color=\"seagreen\")\n",
    "plt.title(\"Length of Stay Distribution\")\n",
    "plt.xlabel(\"Days\")\n",
    "plt.ylabel(\"Frequency\")\n",
    "plt.show()"
   ]
  },
  {
   "cell_type": "code",
   "execution_count": 121,
   "id": "705e937b-eb9d-402a-957f-3aeea09939ac",
   "metadata": {},
   "outputs": [
    {
     "data": {
      "text/html": [
       "\n",
       "<h1 style = \"background-color: #556B2F;\n",
       "color:white; font-size: 20px;\n",
       "border-radius: 20px;\n",
       "padding: 16px;\n",
       "text-align: left;\">\n",
       "\n",
       " \n",
       "<span style = \"color: #9ACD32;\">Gender Count\n",
       "</span>\n",
       "</h1>\n"
      ],
      "text/plain": [
       "<IPython.core.display.HTML object>"
      ]
     },
     "metadata": {},
     "output_type": "display_data"
    }
   ],
   "source": [
    "from IPython.display import HTML, display\n",
    "\n",
    "html_code = '''\n",
    "<h1 style = \"background-color: #556B2F;\n",
    "color:white; font-size: 20px;\n",
    "border-radius: 20px;\n",
    "padding: 16px;\n",
    "text-align: left;\">\n",
    "\n",
    " \n",
    "<span style = \"color: #9ACD32;\">Gender Count\n",
    "</span>\n",
    "</h1>\n",
    "'''\n",
    "\n",
    "display(HTML(html_code))"
   ]
  },
  {
   "cell_type": "code",
   "execution_count": 44,
   "id": "80dcd513-94fe-4675-8de4-a0e497d92fd2",
   "metadata": {},
   "outputs": [
    {
     "data": {
      "image/png": "[encoded data removed]",
      "text/plain": [
       "<Figure size 1000x600 with 1 Axes>"
      ]
     },
     "metadata": {},
     "output_type": "display_data"
    }
   ],
   "source": [
    "plt.figure()\n",
    "sns.countplot(x=\"Gender\", data=df_cleaned, palette=\"Set2\")\n",
    "plt.title(\"Gender Distribution\")\n",
    "plt.ylabel(\"Count\")\n",
    "plt.show()"
   ]
  },
  {
   "cell_type": "code",
   "execution_count": 122,
   "id": "950eb160-2c5e-4004-a9df-f8f4296572b7",
   "metadata": {},
   "outputs": [
    {
     "data": {
      "text/html": [
       "\n",
       "<h1 style = \"background-color: #556B2F;\n",
       "color:white; font-size: 20px;\n",
       "border-radius: 20px;\n",
       "padding: 16px;\n",
       "text-align: left;\">\n",
       "\n",
       " \n",
       "<span style = \"color: #9ACD32;\">Admission Type vs Billing Amount (Boxplot)\n",
       "\n",
       "</span>\n",
       "</h1>\n"
      ],
      "text/plain": [
       "<IPython.core.display.HTML object>"
      ]
     },
     "metadata": {},
     "output_type": "display_data"
    }
   ],
   "source": [
    "from IPython.display import HTML, display\n",
    "\n",
    "html_code = '''\n",
    "<h1 style = \"background-color: #556B2F;\n",
    "color:white; font-size: 20px;\n",
    "border-radius: 20px;\n",
    "padding: 16px;\n",
    "text-align: left;\">\n",
    "\n",
    " \n",
    "<span style = \"color: #9ACD32;\">Admission Type vs Billing Amount (Boxplot)\n",
    "\n",
    "</span>\n",
    "</h1>\n",
    "'''\n",
    "\n",
    "display(HTML(html_code))"
   ]
  },
  {
   "cell_type": "code",
   "execution_count": 45,
   "id": "0fb80924-bd3b-427f-bf7b-f7bdaff5f910",
   "metadata": {},
   "outputs": [
    {
     "data": {
      "image/png": "[encoded data removed]",
      "text/plain": [
       "<Figure size 1000x600 with 1 Axes>"
      ]
     },
     "metadata": {},
     "output_type": "display_data"
    }
   ],
   "source": [
    "plt.figure()\n",
    "sns.boxplot(x=\"Admission Type\", y=\"Billing Amount\", data = df_cleaned, palette = \"Set3\")\n",
    "plt.title(\"Billing Amount by Admission Type\")\n",
    "plt.xlabel(\"Billing Amount\")\n",
    "plt.ylabel(\"Admission Type\")\n",
    "plt.show()"
   ]
  },
  {
   "cell_type": "code",
   "execution_count": 123,
   "id": "5a51a3a3-656a-4478-af0d-4b12ac9b4a5d",
   "metadata": {},
   "outputs": [
    {
     "data": {
      "text/html": [
       "\n",
       "<h1 style = \"background-color: #556B2F;\n",
       "color:white; font-size: 20px;\n",
       "border-radius: 20px;\n",
       "padding: 16px;\n",
       "text-align: left;\">\n",
       "\n",
       " \n",
       "<span style = \"color: #9ACD32;\">Test Results Count\n",
       "\n",
       "</span>\n",
       "</h1>\n"
      ],
      "text/plain": [
       "<IPython.core.display.HTML object>"
      ]
     },
     "metadata": {},
     "output_type": "display_data"
    }
   ],
   "source": [
    "from IPython.display import HTML, display\n",
    "\n",
    "html_code = '''\n",
    "<h1 style = \"background-color: #556B2F;\n",
    "color:white; font-size: 20px;\n",
    "border-radius: 20px;\n",
    "padding: 16px;\n",
    "text-align: left;\">\n",
    "\n",
    " \n",
    "<span style = \"color: #9ACD32;\">Test Results Count\n",
    "\n",
    "</span>\n",
    "</h1>\n",
    "'''\n",
    "\n",
    "display(HTML(html_code))"
   ]
  },
  {
   "cell_type": "code",
   "execution_count": 47,
   "id": "8b51fed0-4656-496e-8f2c-7382b076b594",
   "metadata": {},
   "outputs": [
    {
     "data": {
      "image/png": "[encoded data removed]",
      "text/plain": [
       "<Figure size 1000x600 with 1 Axes>"
      ]
     },
     "metadata": {},
     "output_type": "display_data"
    }
   ],
   "source": [
    "plt.figure()\n",
    "sns.countplot(y=\"Test Results\", data=df_cleaned, palette=\"coolwarm\")\n",
    "plt.title(\"Test Results Frequency\")\n",
    "plt.xlabel(\"Count\")\n",
    "plt.ylabel(\"Test Result\")\n",
    "plt.show()"
   ]
  },
  {
   "cell_type": "code",
   "execution_count": 124,
   "id": "8fc3a5f4-39d8-4dcd-b9cb-54ba7b065b2c",
   "metadata": {},
   "outputs": [
    {
     "data": {
      "text/html": [
       "\n",
       "<h1 style = \"background-color: #556B2F;\n",
       "color:white; font-size: 20px;\n",
       "border-radius: 20px;\n",
       "padding: 16px;\n",
       "text-align: left;\">\n",
       "\n",
       " \n",
       "<span style = \"color: #9ACD32;\">Medical Condition Frequency\n",
       "\n",
       "\n",
       "</span>\n",
       "</h1>\n"
      ],
      "text/plain": [
       "<IPython.core.display.HTML object>"
      ]
     },
     "metadata": {},
     "output_type": "display_data"
    }
   ],
   "source": [
    "from IPython.display import HTML, display\n",
    "\n",
    "html_code = '''\n",
    "<h1 style = \"background-color: #556B2F;\n",
    "color:white; font-size: 20px;\n",
    "border-radius: 20px;\n",
    "padding: 16px;\n",
    "text-align: left;\">\n",
    "\n",
    " \n",
    "<span style = \"color: #9ACD32;\">Medical Condition Frequency\n",
    "\n",
    "\n",
    "</span>\n",
    "</h1>\n",
    "'''\n",
    "\n",
    "display(HTML(html_code))"
   ]
  },
  {
   "cell_type": "code",
   "execution_count": 49,
   "id": "26f8c9aa-2d32-491f-8e18-c9090588b9e7",
   "metadata": {},
   "outputs": [
    {
     "data": {
      "image/png": "[encoded data removed]",
      "text/plain": [
       "<Figure size 1000x600 with 1 Axes>"
      ]
     },
     "metadata": {},
     "output_type": "display_data"
    }
   ],
   "source": [
    "plt.figure()\n",
    "top_conditions = df_cleaned[\"Medical Condition\"].value_counts().nlargest(10)\n",
    "sns.barplot(x=top_conditions.values, y=top_conditions.index, palette=\"viridis\")\n",
    "plt.title(\"Top 10 Medical Conditions\")\n",
    "plt.xlabel(\"Number of Patients\")\n",
    "plt.ylabel(\"Medical Condition\")\n",
    "plt.show()"
   ]
  },
  {
   "cell_type": "code",
   "execution_count": 125,
   "id": "fdc832f2-e1ce-47b8-b75e-b0fe59a8ea1b",
   "metadata": {},
   "outputs": [
    {
     "data": {
      "text/html": [
       "\n",
       "<h1 style = \"background-color: #556B2F;\n",
       "color:white; font-size: 20px;\n",
       "border-radius: 20px;\n",
       "padding: 16px;\n",
       "text-align: left;\">\n",
       "\n",
       " \n",
       "<span style = \"color: #9ACD32;\">Correlation Heatmap for Numerical Columns\n",
       "\n",
       "\n",
       "\n",
       "</span>\n",
       "</h1>\n"
      ],
      "text/plain": [
       "<IPython.core.display.HTML object>"
      ]
     },
     "metadata": {},
     "output_type": "display_data"
    }
   ],
   "source": [
    "from IPython.display import HTML, display\n",
    "\n",
    "html_code = '''\n",
    "<h1 style = \"background-color: #556B2F;\n",
    "color:white; font-size: 20px;\n",
    "border-radius: 20px;\n",
    "padding: 16px;\n",
    "text-align: left;\">\n",
    "\n",
    " \n",
    "<span style = \"color: #9ACD32;\">Correlation Heatmap for Numerical Columns\n",
    "\n",
    "\n",
    "\n",
    "</span>\n",
    "</h1>\n",
    "'''\n",
    "\n",
    "display(HTML(html_code))"
   ]
  },
  {
   "cell_type": "code",
   "execution_count": 50,
   "id": "beac15d1-5cc0-4cd0-b9cd-8de75caab4ac",
   "metadata": {},
   "outputs": [
    {
     "data": {
      "image/png": "[encoded data removed]",
      "text/plain": [
       "<Figure size 1000x600 with 2 Axes>"
      ]
     },
     "metadata": {},
     "output_type": "display_data"
    }
   ],
   "source": [
    "plt.figure()\n",
    "numerics = df_cleaned[[\"Age\", \"Billing Amount\", \"Length of Stay\"]]\n",
    "sns.heatmap(numerics.corr(), annot=True, cmap=\"coolwarm\", linewidth=0.5)\n",
    "plt.title(\"Correlation Heatmap\")\n",
    "plt.show()"
   ]
  },
  {
   "cell_type": "code",
   "execution_count": 129,
   "id": "15c28c8e-e376-4b06-bbb7-f6f65f86ab7e",
   "metadata": {},
   "outputs": [
    {
     "data": {
      "text/html": [
       "\n",
       "<h1 style = \"background-color: #556B2F; font-size: 14px;\n",
       "border-radius: 20px;\n",
       "padding: 12px;\n",
       "border: 4px solid darkgreen\n",
       "text-align: left;\">\n",
       "\n",
       "<span style = \"color:white;\n",
       "\">📊 EDA Summary & Visual Insights\n",
       "</span><br><br>\n",
       "<span style = \"color:#9ACD32;\n",
       "\">- The key findings from the visualizations are:<br><br>\n",
       "</span>\n",
       "<span style = \"color:#FFFDD0;\n",
       "\"><ul>1. Age Distribution</ul>\n",
       "<span style = \"color:#9ACD32;\n",
       "\"><ul>Most patients are between 35 to 70 years old.</ul>  \n",
       "  <ul>Slight skew towards older age groups → focus on geriatric care.</ul></span>\n",
       "<br><br>\n",
       "\n",
       "<span style = \"color:#FFFDD0;\n",
       "\"><ul>2. Billing Amount Distribution</ul>\n",
       "<span style = \"color:#9ACD32;\n",
       "\"><ul>Centered around $25,000, ranging up to $52,000+ </ul>  \n",
       "  <ul>Some long-tail bills → may suggest cost control reviews needed. </ul></span>\n",
       "<br><br>\n",
       "\n",
       "<span style = \"color:#FFFDD0;\n",
       "\"><ul>3. Length of Stay</ul>\n",
       "<span style = \"color:#9ACD32;\n",
       "\"><ul>Most stays are under 10 days, but some extend to ~30 days. </ul>  \n",
       "  <ul>Extended stays should be audited for possible readmission reduction or case management. </ul></span>\n",
       "<br><br>\n",
       "\n",
       "<span style = \"color:#FFFDD0;\n",
       "\"><ul>4. Gender Distribution </ul>\n",
       "<span style = \"color:#9ACD32;\n",
       "\"><ul>Fairly balanced: ~50/50 Male vs Female. </ul>  \n",
       "  <ul>Suggests even resource allocation across genders. </ul></span>\n",
       "<br><br>\n",
       "\n",
       "<span style = \"color:#FFFDD0;\n",
       "\"><ul>5. Billing Amount by Admission Type </ul>\n",
       "<span style = \"color:#9ACD32;\n",
       "\"><ul>Emergency admissions have a higher variance and cost. </ul>  \n",
       "  <ul>Elective admissions are more predictable and cost-efficient.</ul>\n",
       "  <ul>Insight: Focus on preventative care to reduce emergency cases.</ul></span>\n",
       "<br><br>\n",
       "\n",
       "<span style = \"color:#FFFDD0;\n",
       "\"><ul>6. Test Results Frequency </ul>\n",
       "<span style = \"color:#9ACD32;\n",
       "\"><ul>High frequency of abnormal results. </ul>  \n",
       "  <ul>Suggests a population with chronic or severe conditions → long-term care planning essential.</ul></span>\n",
       "<br><br>\n",
       "\n",
       "<span style = \"color:#FFFDD0;\n",
       "\"><ul>7. Medical Condition Breakdown </ul>\n",
       "<span style = \"color:#9ACD32;\n",
       "\"><ul>Top 3: Arthritis, Hypertension, Diabetes. </ul>  \n",
       "  <ul>These are lifestyle and chronic conditions → suggests potential for wellness initiatives and early intervention programs.</ul></span>\n",
       "<br><br>\n",
       "\n",
       "<span style = \"color:#FFFDD0;\n",
       "\"><ul>8. Correlation Heatmap </ul>\n",
       "<span style = \"color:#9ACD32;\n",
       "\"><ul>Moderate correlation between Length of Stay and Billing Amount. </ul>  \n",
       "  <ul>Age has low correlation with cost directly but may relate via condition severity.</ul></span>\n",
       "<br><br>\n",
       "\n",
       "</h1>\n"
      ],
      "text/plain": [
       "<IPython.core.display.HTML object>"
      ]
     },
     "metadata": {},
     "output_type": "display_data"
    }
   ],
   "source": [
    "from IPython.display import HTML, display\n",
    "\n",
    "html_code = '''\n",
    "<h1 style = \"background-color: #556B2F; font-size: 14px;\n",
    "border-radius: 20px;\n",
    "padding: 12px;\n",
    "border: 4px solid darkgreen\n",
    "text-align: left;\">\n",
    "\n",
    "<span style = \"color:white;\n",
    "\">📊 EDA Summary & Visual Insights\n",
    "</span><br><br>\n",
    "<span style = \"color:#9ACD32;\n",
    "\">- The key findings from the visualizations are:<br><br>\n",
    "</span>\n",
    "<span style = \"color:#FFFDD0;\n",
    "\"><ul>1. Age Distribution</ul>\n",
    "<span style = \"color:#9ACD32;\n",
    "\"><ul>Most patients are between 35 to 70 years old.</ul>  \n",
    "  <ul>Slight skew towards older age groups → focus on geriatric care.</ul></span>\n",
    "<br><br>\n",
    "\n",
    "<span style = \"color:#FFFDD0;\n",
    "\"><ul>2. Billing Amount Distribution</ul>\n",
    "<span style = \"color:#9ACD32;\n",
    "\"><ul>Centered around $25,000, ranging up to $52,000+ </ul>  \n",
    "  <ul>Some long-tail bills → may suggest cost control reviews needed. </ul></span>\n",
    "<br><br>\n",
    "\n",
    "<span style = \"color:#FFFDD0;\n",
    "\"><ul>3. Length of Stay</ul>\n",
    "<span style = \"color:#9ACD32;\n",
    "\"><ul>Most stays are under 10 days, but some extend to ~30 days. </ul>  \n",
    "  <ul>Extended stays should be audited for possible readmission reduction or case management. </ul></span>\n",
    "<br><br>\n",
    "\n",
    "<span style = \"color:#FFFDD0;\n",
    "\"><ul>4. Gender Distribution </ul>\n",
    "<span style = \"color:#9ACD32;\n",
    "\"><ul>Fairly balanced: ~50/50 Male vs Female. </ul>  \n",
    "  <ul>Suggests even resource allocation across genders. </ul></span>\n",
    "<br><br>\n",
    "\n",
    "<span style = \"color:#FFFDD0;\n",
    "\"><ul>5. Billing Amount by Admission Type </ul>\n",
    "<span style = \"color:#9ACD32;\n",
    "\"><ul>Emergency admissions have a higher variance and cost. </ul>  \n",
    "  <ul>Elective admissions are more predictable and cost-efficient.</ul>\n",
    "  <ul>Insight: Focus on preventative care to reduce emergency cases.</ul></span>\n",
    "<br><br>\n",
    "\n",
    "<span style = \"color:#FFFDD0;\n",
    "\"><ul>6. Test Results Frequency </ul>\n",
    "<span style = \"color:#9ACD32;\n",
    "\"><ul>High frequency of abnormal results. </ul>  \n",
    "  <ul>Suggests a population with chronic or severe conditions → long-term care planning essential.</ul></span>\n",
    "<br><br>\n",
    "\n",
    "<span style = \"color:#FFFDD0;\n",
    "\"><ul>7. Medical Condition Breakdown </ul>\n",
    "<span style = \"color:#9ACD32;\n",
    "\"><ul>Top 3: Arthritis, Hypertension, Diabetes. </ul>  \n",
    "  <ul>These are lifestyle and chronic conditions → suggests potential for wellness initiatives and early intervention programs.</ul></span>\n",
    "<br><br>\n",
    "\n",
    "<span style = \"color:#FFFDD0;\n",
    "\"><ul>8. Correlation Heatmap </ul>\n",
    "<span style = \"color:#9ACD32;\n",
    "\"><ul>Moderate correlation between Length of Stay and Billing Amount. </ul>  \n",
    "  <ul>Age has low correlation with cost directly but may relate via condition severity.</ul></span>\n",
    "<br><br>\n",
    "\n",
    "</h1>\n",
    "'''\n",
    "\n",
    "display(HTML(html_code))"
   ]
  },
  {
   "cell_type": "code",
   "execution_count": 131,
   "id": "0a61f73c-62da-4dd4-b1ca-3aff845220cb",
   "metadata": {},
   "outputs": [
    {
     "data": {
      "text/html": [
       "\n",
       "<h1 style = \"background-color: #556B2F;\n",
       "color:white; font-size: 30px;\n",
       "border-radius: 20px;\n",
       "padding: 16px;\n",
       "text-align: center;\">\n",
       "\n",
       " \n",
       "<span style = \"color: #9ACD32;\">Business Recommendations</span>\n",
       "</h1>\n"
      ],
      "text/plain": [
       "<IPython.core.display.HTML object>"
      ]
     },
     "metadata": {},
     "output_type": "display_data"
    }
   ],
   "source": [
    "from IPython.display import HTML, display\n",
    "\n",
    "html_code = '''\n",
    "<h1 style = \"background-color: #556B2F;\n",
    "color:white; font-size: 30px;\n",
    "border-radius: 20px;\n",
    "padding: 16px;\n",
    "text-align: center;\">\n",
    "\n",
    " \n",
    "<span style = \"color: #9ACD32;\">Business Recommendations</span>\n",
    "</h1>\n",
    "'''\n",
    "\n",
    "display(HTML(html_code))"
   ]
  },
  {
   "cell_type": "code",
   "execution_count": 137,
   "id": "44253526-e321-4d50-b061-035de9115cce",
   "metadata": {},
   "outputs": [
    {
     "data": {
      "text/html": [
       "\n",
       "<div style=\"display: flex; justify-content: center; margin-top: 20px;\">\n",
       "  <table style=\"border-collapse: collapse; width: 80%; font-family: Arial, sans-serif; text-align: center; box-shadow: 0 0 10px rgba(0,0,0,0.1);\">\n",
       "    <thead>\n",
       "      <tr style=\"background-color: #2e7d32; color: white; text-align: center;\">\n",
       "        <th style=\"padding: 12px; border: 1px solid #ccc; text-align: center;\">Insight</th>\n",
       "        <th style=\"padding: 12px; border: 1px solid #ccc; text-align: center;\">Action</th>\n",
       "      </tr>\n",
       "    </thead>\n",
       "    <tbody>\n",
       "      <tr style=\"background-color: #e8f5e9;\">\n",
       "        <td style=\"padding: 12px; border: 1px solid #ccc; text-align: center;\">High cost of emergency admissions</td>\n",
       "        <td style=\"padding: 12px; border: 1px solid #ccc; text-align: center;\">Invest in preventative programs</td>\n",
       "      </tr>\n",
       "      <tr style=\"background-color: #c8e6c9;\">\n",
       "        <td style=\"padding: 12px; border: 1px solid #ccc; text-align: center;\">Long hospital stays</td>\n",
       "        <td style=\"padding: 12px; border: 1px solid #ccc; text-align: center;\">Evaluate care pathways & post-acute plans</td>\n",
       "      </tr>\n",
       "      <tr style=\"background-color: #e8f5e9;\">\n",
       "        <td style=\"padding: 12px; border: 1px solid #ccc; text-align: center;\">Chronic diseases are top conditions</td>\n",
       "        <td style=\"padding: 12px; border: 1px solid #ccc; text-align: center;\">Tailor care management programs</td>\n",
       "      </tr>\n",
       "      <tr style=\"background-color: #c8e6c9;\">\n",
       "        <td style=\"padding: 12px; border: 1px solid #ccc; text-align: center;\">Gender-balanced patients</td>\n",
       "        <td style=\"padding: 12px; border: 1px solid #ccc; text-align: center;\">Services should be inclusive & balanced</td>\n",
       "      </tr>\n",
       "      <tr style=\"background-color: #e8f5e9;\">\n",
       "        <td style=\"padding: 12px; border: 1px solid #ccc; text-align: center;\">Wide billing variance</td>\n",
       "        <td style=\"padding: 12px; border: 1px solid #ccc; text-align: center;\">Consider billing audits & DRG standardization</td>\n",
       "      </tr>\n",
       "    </tbody>\n",
       "  </table>\n",
       "</div>\n",
       "\n"
      ],
      "text/plain": [
       "<IPython.core.display.HTML object>"
      ]
     },
     "metadata": {},
     "output_type": "display_data"
    }
   ],
   "source": [
    "from IPython.display import HTML, display\n",
    "\n",
    "html_code = '''\n",
    "<div style=\"display: flex; justify-content: center; margin-top: 20px;\">\n",
    "  <table style=\"border-collapse: collapse; width: 80%; font-family: Arial, sans-serif; text-align: center; box-shadow: 0 0 10px rgba(0,0,0,0.1);\">\n",
    "    <thead>\n",
    "      <tr style=\"background-color: #2e7d32; color: white; text-align: center;\">\n",
    "        <th style=\"padding: 12px; border: 1px solid #ccc; text-align: center;\">Insight</th>\n",
    "        <th style=\"padding: 12px; border: 1px solid #ccc; text-align: center;\">Action</th>\n",
    "      </tr>\n",
    "    </thead>\n",
    "    <tbody>\n",
    "      <tr style=\"background-color: #e8f5e9;\">\n",
    "        <td style=\"padding: 12px; border: 1px solid #ccc; text-align: center;\">High cost of emergency admissions</td>\n",
    "        <td style=\"padding: 12px; border: 1px solid #ccc; text-align: center;\">Invest in preventative programs</td>\n",
    "      </tr>\n",
    "      <tr style=\"background-color: #c8e6c9;\">\n",
    "        <td style=\"padding: 12px; border: 1px solid #ccc; text-align: center;\">Long hospital stays</td>\n",
    "        <td style=\"padding: 12px; border: 1px solid #ccc; text-align: center;\">Evaluate care pathways & post-acute plans</td>\n",
    "      </tr>\n",
    "      <tr style=\"background-color: #e8f5e9;\">\n",
    "        <td style=\"padding: 12px; border: 1px solid #ccc; text-align: center;\">Chronic diseases are top conditions</td>\n",
    "        <td style=\"padding: 12px; border: 1px solid #ccc; text-align: center;\">Tailor care management programs</td>\n",
    "      </tr>\n",
    "      <tr style=\"background-color: #c8e6c9;\">\n",
    "        <td style=\"padding: 12px; border: 1px solid #ccc; text-align: center;\">Gender-balanced patients</td>\n",
    "        <td style=\"padding: 12px; border: 1px solid #ccc; text-align: center;\">Services should be inclusive & balanced</td>\n",
    "      </tr>\n",
    "      <tr style=\"background-color: #e8f5e9;\">\n",
    "        <td style=\"padding: 12px; border: 1px solid #ccc; text-align: center;\">Wide billing variance</td>\n",
    "        <td style=\"padding: 12px; border: 1px solid #ccc; text-align: center;\">Consider billing audits & DRG standardization</td>\n",
    "      </tr>\n",
    "    </tbody>\n",
    "  </table>\n",
    "</div>\n",
    "\n",
    "'''\n",
    "\n",
    "display(HTML(html_code))"
   ]
  },
  {
   "cell_type": "code",
   "execution_count": null,
   "id": "464f1519-ce00-4126-bbbb-31e0156fa9ca",
   "metadata": {},
   "outputs": [],
   "source": []
  }
 ],
 "metadata": {
  "kernelspec": {
   "display_name": "Python 3 (ipykernel)",
   "language": "python",
   "name": "python3"
  },
  "language_info": {
   "codemirror_mode": {
    "name": "ipython",
    "version": 3
   },
   "file_extension": ".py",
   "mimetype": "text/x-python",
   "name": "python",
   "nbconvert_exporter": "python",
   "pygments_lexer": "ipython3",
   "version": "3.12.7"
  }
 },
 "nbformat": 4,
 "nbformat_minor": 5
}
